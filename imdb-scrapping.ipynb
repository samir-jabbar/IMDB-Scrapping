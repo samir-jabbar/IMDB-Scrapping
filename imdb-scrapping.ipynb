{
 "cells": [
  {
   "attachments": {},
   "cell_type": "markdown",
   "metadata": {
    "_uuid": "f07075e99eb14b03be308e3156fc8a8a02d87cdd"
   },
   "source": [
    "this Lab illustrates how to use `BeautifulSoup` to scrape the International Movies Database (IMDB) at [imdb.com](https://imdb.com) for top films released in year 2023 with the highest US box office. \n",
    "\n",
    "The final dataframe will contains the below elements:\n",
    "\n",
    "* `name` - title of the movie, \n",
    "* `year` - release year of the movie, \n",
    "* `imdb` - IMDB score of the movie, \n",
    "* `m_score` - meta score of the movie, \n",
    "* `vote` - number of votes."
   ]
  },
  {
   "attachments": {},
   "cell_type": "markdown",
   "metadata": {
    "_uuid": "9b1eef50248c5263a75621ab52a9f1af0b996b83"
   },
   "source": [
    "First, we import the requried packages"
   ]
  },
  {
   "cell_type": "code",
   "execution_count": 1,
   "metadata": {
    "_uuid": "dda98d2e9ae4faf439deaa1592f4844f8baac1cd"
   },
   "outputs": [],
   "source": [
    "import bs4\n",
    "import requests\n",
    "import time\n",
    "import random as ran\n",
    "import sys\n",
    "import pandas as pd"
   ]
  },
  {
   "attachments": {},
   "cell_type": "markdown",
   "metadata": {
    "_uuid": "c924018be5930d4b8c21cc0bb957ad5025375879"
   },
   "source": [
    "Now, search the [top 1000 films released in year of 2023 at imdb.com](https://www.imdb.com/search/title/?release_date=2023&sort=boxoffice_gross_us,desc&start=1) and scrape results from the first page"
   ]
  },
  {
   "cell_type": "code",
   "execution_count": 2,
   "metadata": {
    "_uuid": "21f25f231667b0863479574771aa5961f1a40da8"
   },
   "outputs": [],
   "source": [
    "url = 'https://www.imdb.com/search/title?release_date=2023&sort=boxoffice_gross_us,desc&start=1'\n",
    "\n",
    "source = requests.get(url).text\n",
    "soup = bs4.BeautifulSoup(source,'html.parser')"
   ]
  },
  {
   "attachments": {},
   "cell_type": "markdown",
   "metadata": {
    "_uuid": "4577e2bcc6733252c17b5b44abb4ef53351efdfe"
   },
   "source": [
    "Since above code extracts all data on the first page, below code is run only to extract movie information on it."
   ]
  },
  {
   "cell_type": "code",
   "execution_count": 3,
   "metadata": {
    "_uuid": "1275751323d1baa89fa8290b6cff594a14eb8934"
   },
   "outputs": [],
   "source": [
    "movie_blocks = soup.findAll('div',{'class':'lister-item-content'})"
   ]
  },
  {
   "attachments": {},
   "cell_type": "markdown",
   "metadata": {
    "_uuid": "5bb2c969199db0f64dda78e5607aed7395f58c2b"
   },
   "source": [
    "Before extracting information across all movies, try first to examine one of the extracted block to identify the elements that we need to scrape.\n",
    "\n",
    "Below  the elements from the first movie block are extracted"
   ]
  },
  {
   "cell_type": "code",
   "execution_count": 4,
   "metadata": {
    "_uuid": "1f377c7e4081459f56d49eff4d929ed820f2575a"
   },
   "outputs": [
    {
     "ename": "TypeError",
     "evalue": "float() argument must be a string or a real number, not 'NoneType'",
     "output_type": "error",
     "traceback": [
      "\u001b[1;31m---------------------------------------------------------------------------\u001b[0m",
      "\u001b[1;31mTypeError\u001b[0m                                 Traceback (most recent call last)",
      "Cell \u001b[1;32mIn[4], line 7\u001b[0m\n\u001b[0;32m      3\u001b[0m m_reyear \u001b[39m=\u001b[39m \u001b[39mint\u001b[39m(movie_blocks[\u001b[39m0\u001b[39m]\u001b[39m.\u001b[39mfind(\u001b[39m'\u001b[39m\u001b[39mspan\u001b[39m\u001b[39m'\u001b[39m,{\u001b[39m'\u001b[39m\u001b[39mclass\u001b[39m\u001b[39m'\u001b[39m: \u001b[39m'\u001b[39m\u001b[39mlister-item-year\u001b[39m\u001b[39m'\u001b[39m})\u001b[39m.\u001b[39mcontents[\u001b[39m0\u001b[39m][\u001b[39m1\u001b[39m:\u001b[39m-\u001b[39m\u001b[39m1\u001b[39m]) \u001b[39m# Release year\u001b[39;00m\n\u001b[0;32m      5\u001b[0m m_rating \u001b[39m=\u001b[39m \u001b[39mfloat\u001b[39m(movie_blocks[\u001b[39m0\u001b[39m]\u001b[39m.\u001b[39mfind(\u001b[39m'\u001b[39m\u001b[39mdiv\u001b[39m\u001b[39m'\u001b[39m,{\u001b[39m'\u001b[39m\u001b[39mclass\u001b[39m\u001b[39m'\u001b[39m:\u001b[39m'\u001b[39m\u001b[39minline-block ratings-imdb-rating\u001b[39m\u001b[39m'\u001b[39m})\u001b[39m.\u001b[39mget(\u001b[39m'\u001b[39m\u001b[39mdata-value\u001b[39m\u001b[39m'\u001b[39m)) \u001b[39m#rating\u001b[39;00m\n\u001b[1;32m----> 7\u001b[0m m_mscore \u001b[39m=\u001b[39m \u001b[39mfloat\u001b[39;49m(movie_blocks[\u001b[39m0\u001b[39;49m]\u001b[39m.\u001b[39;49mfind(\u001b[39m'\u001b[39;49m\u001b[39mspan\u001b[39;49m\u001b[39m'\u001b[39;49m,{\u001b[39m'\u001b[39;49m\u001b[39mclass\u001b[39;49m\u001b[39m'\u001b[39;49m:\u001b[39m'\u001b[39;49m\u001b[39mmetascore favorable\u001b[39;49m\u001b[39m'\u001b[39;49m}))\n\u001b[0;32m      8\u001b[0m m_votes \u001b[39m=\u001b[39m \u001b[39mint\u001b[39m(movie_blocks[\u001b[39m0\u001b[39m]\u001b[39m.\u001b[39mfind(\u001b[39m'\u001b[39m\u001b[39mspan\u001b[39m\u001b[39m'\u001b[39m,{\u001b[39m'\u001b[39m\u001b[39mname\u001b[39m\u001b[39m'\u001b[39m:\u001b[39m'\u001b[39m\u001b[39mnv\u001b[39m\u001b[39m'\u001b[39m})\u001b[39m.\u001b[39mget(\u001b[39m'\u001b[39m\u001b[39mdata-value\u001b[39m\u001b[39m'\u001b[39m)) \u001b[39m# votes\u001b[39;00m\n\u001b[0;32m     10\u001b[0m \u001b[39mprint\u001b[39m(\u001b[39m\"\u001b[39m\u001b[39mMovie Name: \u001b[39m\u001b[39m\"\u001b[39m \u001b[39m+\u001b[39m mname,\n\u001b[0;32m     11\u001b[0m       \u001b[39m\"\u001b[39m\u001b[39m\\n\u001b[39;00m\u001b[39mRelease Year: \u001b[39m\u001b[39m\"\u001b[39m \u001b[39m+\u001b[39m \u001b[39mstr\u001b[39m(m_reyear),\n\u001b[0;32m     12\u001b[0m       \u001b[39m\"\u001b[39m\u001b[39m\\n\u001b[39;00m\u001b[39mIMDb Rating: \u001b[39m\u001b[39m\"\u001b[39m \u001b[39m+\u001b[39m \u001b[39mstr\u001b[39m(m_rating),\n\u001b[1;32m   (...)\u001b[0m\n\u001b[0;32m     15\u001b[0m \n\u001b[0;32m     16\u001b[0m )\n",
      "\u001b[1;31mTypeError\u001b[0m: float() argument must be a string or a real number, not 'NoneType'"
     ]
    }
   ],
   "source": [
    "mname = movie_blocks[0].find('a').get_text() # Name of the movie\n",
    "\n",
    "m_reyear = int(movie_blocks[0].find('span',{'class': 'lister-item-year'}).contents[0][1:-1]) # Release year\n",
    "\n",
    "m_rating = float(movie_blocks[0].find('div',{'class':'inline-block ratings-imdb-rating'}).get('data-value')) #rating\n",
    "\n",
    "m_mscore = float(movie_blocks[0].find('span',{'class':'metascore favorable'}))\n",
    "m_votes = int(movie_blocks[0].find('span',{'name':'nv'}).get('data-value')) # votes\n",
    "\n",
    "print(\"Movie Name: \" + mname,\n",
    "      \"\\nRelease Year: \" + str(m_reyear),\n",
    "      \"\\nIMDb Rating: \" + str(m_rating),\n",
    "      \"\\nMeta score: \" + str(m_mscore),\n",
    "      \"\\nVotes: \" + '{:,}'.format(m_votes)\n",
    "\n",
    ")"
   ]
  },
  {
   "attachments": {},
   "cell_type": "markdown",
   "metadata": {
    "_uuid": "c70f56d7ccd87d574e0be02656e44b1ab6435b4c"
   },
   "source": [
    "Once you examine the resulting pages of the imbd search that we initially did , it's obvious that by editing the html link it is possible to view all search results. Thus we will be using this feature during the scrape to iterate through all pages."
   ]
  },
  {
   "attachments": {},
   "cell_type": "markdown",
   "metadata": {
    "_uuid": "b36f51a41f37b2e68a4149a42eaa64b9b8ae097c"
   },
   "source": [
    "Now since scraping the data is an iterative process, we define separate functions for each purpose.\n",
    "\n",
    "First wa are going to define a function which will extract the targeted elements from a 'movie block list' (discussed above)"
   ]
  },
  {
   "cell_type": "code",
   "execution_count": 5,
   "metadata": {
    "_uuid": "548ab4039c3a6e419ddbdd2bc1c93c577800c5d6"
   },
   "outputs": [],
   "source": [
    "def scrape_mblock(movie_block):\n",
    "    \n",
    "    movieb_data ={}\n",
    "  \n",
    "    try:\n",
    "        movieb_data['name'] = movie_block.find('a').get_text() # Name of the movie\n",
    "    except:\n",
    "        movieb_data['name'] = None\n",
    "\n",
    "    try:    \n",
    "        movieb_data['year'] = str(movie_block.find('span',{'class': 'lister-item-year'}).contents[0][1:-1]) # Release year\n",
    "    except:\n",
    "        movieb_data['year'] = None\n",
    "\n",
    "    try:\n",
    "        movieb_data['rating'] = float(movie_block.find('div',{'class':'inline-block ratings-imdb-rating'}).get('data-value')) #rating\n",
    "    except:\n",
    "        movieb_data['rating'] = None\n",
    "\n",
    "    try:\n",
    "        movieb_data['m_score'] = float(movie_block.find('span',{'class':'metascore favorable'}).contents[0].strip()) #meta score\n",
    "    except:\n",
    "        movieb_data['m_score'] = None\n",
    "\n",
    "    try:\n",
    "        movieb_data['votes'] = int(movie_block.find('span',{'name':'nv'}).get('data-value')) # votes\n",
    "    except:\n",
    "        movieb_data['votes'] = None\n",
    "\n",
    "    return movieb_data\n",
    "    "
   ]
  },
  {
   "attachments": {},
   "cell_type": "markdown",
   "metadata": {
    "_uuid": "f28bd9e7abe441563183dfd4707d1a1fb7163fc5"
   },
   "source": [
    "Then we create the below function to scrape all movie blocks within a single search result page"
   ]
  },
  {
   "cell_type": "code",
   "execution_count": 6,
   "metadata": {
    "_uuid": "d65617221159bccad080a325a574aa901c94a451"
   },
   "outputs": [],
   "source": [
    "def scrape_m_page(movie_blocks):\n",
    "    \n",
    "    page_movie_data = []\n",
    "    num_blocks = len(movie_blocks)\n",
    "    \n",
    "    for block in range(num_blocks):\n",
    "        page_movie_data.append(scrape_mblock(movie_blocks[block]))\n",
    "    \n",
    "    return page_movie_data"
   ]
  },
  {
   "attachments": {},
   "cell_type": "markdown",
   "metadata": {
    "_uuid": "b96947baac69667a01b4a851932d3c227003c8cc"
   },
   "source": [
    "Now we built functions to extract all movie data from a single page.\n",
    "\n",
    "Next function will be created to iterate the above made function through all pages of the search result untill we scrape data for the targeted number of movies"
   ]
  },
  {
   "cell_type": "code",
   "execution_count": 7,
   "metadata": {
    "_uuid": "c5656aa65b04b82a57a1caf8ff68e27a88ef5e21"
   },
   "outputs": [],
   "source": [
    "def scrape_this(link,t_count):\n",
    "    \n",
    "    #from IPython.core.debugger import set_trace\n",
    "\n",
    "    base_url = link\n",
    "    target = t_count\n",
    "    \n",
    "    current_mcount_start = 0\n",
    "    current_mcount_end = 0\n",
    "    remaining_mcount = target - current_mcount_end \n",
    "    \n",
    "    new_page_number = 1\n",
    "    \n",
    "    movie_data = []\n",
    "    \n",
    "    \n",
    "    while remaining_mcount > 0:\n",
    "\n",
    "        url = base_url + str(new_page_number)\n",
    "        \n",
    "        #set_trace()\n",
    "        \n",
    "        source = requests.get(url).text\n",
    "        soup = bs4.BeautifulSoup(source,'html.parser')\n",
    "        \n",
    "        movie_blocks = soup.findAll('div',{'class':'lister-item-content'})\n",
    "        \n",
    "        movie_data.extend(scrape_m_page(movie_blocks))   \n",
    "        \n",
    "        current_mcount_start = int(soup.find(\"div\", {\"class\":\"nav\"}).find(\"div\", {\"class\": \"desc\"}).contents[1].get_text().split(\"-\")[0])\n",
    "\n",
    "        current_mcount_end = int(soup.find(\"div\", {\"class\":\"nav\"}).find(\"div\", {\"class\": \"desc\"}).contents[1].get_text().split(\"-\")[1].split(\" \")[0])\n",
    "\n",
    "        remaining_mcount = target - current_mcount_end\n",
    "        \n",
    "        print('\\r' + \"currently scraping movies from: \" + str(current_mcount_start) + \" - \"+str(current_mcount_end), \"| remaining count: \" + str(remaining_mcount), flush=True, end =\"\")\n",
    "        \n",
    "        new_page_number = current_mcount_end + 1\n",
    "        \n",
    "        time.sleep(ran.randint(0, 10))\n",
    "    \n",
    "    return movie_data\n",
    "    \n",
    "    "
   ]
  },
  {
   "attachments": {},
   "cell_type": "markdown",
   "metadata": {
    "_uuid": "36432981ed2585a52a2e97314d403c6a0f6529fb"
   },
   "source": [
    "Finally, we put together all functions created above to scrape the top 150 movies on the list"
   ]
  },
  {
   "cell_type": "code",
   "execution_count": 8,
   "metadata": {
    "_uuid": "efca380155228307997551c37fe3f10c13b7e008"
   },
   "outputs": [
    {
     "name": "stdout",
     "output_type": "stream",
     "text": [
      "currently scraping movies from: 101 - 150 | remaining count: 0"
     ]
    },
    {
     "ename": "KeyboardInterrupt",
     "evalue": "",
     "output_type": "error",
     "traceback": [
      "\u001b[1;31m---------------------------------------------------------------------------\u001b[0m",
      "\u001b[1;31mKeyboardInterrupt\u001b[0m                         Traceback (most recent call last)",
      "Cell \u001b[1;32mIn[8], line 6\u001b[0m\n\u001b[0;32m      3\u001b[0m top_movies \u001b[39m=\u001b[39m \u001b[39m150\u001b[39m \u001b[39m#input(\"How many movies do you want to scrape?\")\u001b[39;00m\n\u001b[0;32m      4\u001b[0m films \u001b[39m=\u001b[39m []\n\u001b[1;32m----> 6\u001b[0m films \u001b[39m=\u001b[39m scrape_this(base_scraping_link,\u001b[39mint\u001b[39;49m(top_movies))\n\u001b[0;32m      8\u001b[0m \u001b[39mprint\u001b[39m(\u001b[39m'\u001b[39m\u001b[39m\\r\u001b[39;00m\u001b[39m'\u001b[39m\u001b[39m+\u001b[39m\u001b[39m\"\u001b[39m\u001b[39mList of top \u001b[39m\u001b[39m\"\u001b[39m \u001b[39m+\u001b[39m \u001b[39mstr\u001b[39m(top_movies) \u001b[39m+\u001b[39m\u001b[39m\"\u001b[39m\u001b[39m movies:\u001b[39m\u001b[39m\"\u001b[39m \u001b[39m+\u001b[39m \u001b[39m\"\u001b[39m\u001b[39m\\n\u001b[39;00m\u001b[39m\"\u001b[39m, end\u001b[39m=\u001b[39m\u001b[39m\"\u001b[39m\u001b[39m\\n\u001b[39;00m\u001b[39m\"\u001b[39m)\n\u001b[0;32m      9\u001b[0m pd\u001b[39m.\u001b[39mDataFrame(films)\n",
      "Cell \u001b[1;32mIn[7], line 40\u001b[0m, in \u001b[0;36mscrape_this\u001b[1;34m(link, t_count)\u001b[0m\n\u001b[0;32m     36\u001b[0m     \u001b[39mprint\u001b[39m(\u001b[39m'\u001b[39m\u001b[39m\\r\u001b[39;00m\u001b[39m'\u001b[39m \u001b[39m+\u001b[39m \u001b[39m\"\u001b[39m\u001b[39mcurrently scraping movies from: \u001b[39m\u001b[39m\"\u001b[39m \u001b[39m+\u001b[39m \u001b[39mstr\u001b[39m(current_mcount_start) \u001b[39m+\u001b[39m \u001b[39m\"\u001b[39m\u001b[39m - \u001b[39m\u001b[39m\"\u001b[39m\u001b[39m+\u001b[39m\u001b[39mstr\u001b[39m(current_mcount_end), \u001b[39m\"\u001b[39m\u001b[39m| remaining count: \u001b[39m\u001b[39m\"\u001b[39m \u001b[39m+\u001b[39m \u001b[39mstr\u001b[39m(remaining_mcount), flush\u001b[39m=\u001b[39m\u001b[39mTrue\u001b[39;00m, end \u001b[39m=\u001b[39m\u001b[39m\"\u001b[39m\u001b[39m\"\u001b[39m)\n\u001b[0;32m     38\u001b[0m     new_page_number \u001b[39m=\u001b[39m current_mcount_end \u001b[39m+\u001b[39m \u001b[39m1\u001b[39m\n\u001b[1;32m---> 40\u001b[0m     time\u001b[39m.\u001b[39;49msleep(ran\u001b[39m.\u001b[39;49mrandint(\u001b[39m0\u001b[39;49m, \u001b[39m10\u001b[39;49m))\n\u001b[0;32m     42\u001b[0m \u001b[39mreturn\u001b[39;00m movie_data\n",
      "\u001b[1;31mKeyboardInterrupt\u001b[0m: "
     ]
    }
   ],
   "source": [
    "base_scraping_link = \"https://www.imdb.com/search/title?release_date=2018-01-01,2018-12-31&sort=boxoffice_gross_us,desc&start=\"\n",
    "\n",
    "top_movies = 150 #input(\"How many movies do you want to scrape?\")\n",
    "films = []\n",
    "\n",
    "films = scrape_this(base_scraping_link,int(top_movies))\n",
    "\n",
    "print('\\r'+\"List of top \" + str(top_movies) +\" movies:\" + \"\\n\", end=\"\\n\")\n",
    "pd.DataFrame(films)"
   ]
  },
  {
   "attachments": {},
   "cell_type": "markdown",
   "metadata": {
    "_uuid": "c398086b9c57e035854ac7acadd8c41ccdddcd5f"
   },
   "source": [
    "### Assignment: \n",
    "\n",
    "1. create a web app using Dash and Plotly\n",
    "2. scrap the content of your choice (example: top 250, Top box office, or the results of your own query)\n",
    "3. visualize your results through multiple charts as we did with worldometers website \n",
    "4. try to create your own charts based on the choosed content "
   ]
  },
  {
   "cell_type": "code",
   "execution_count": 35,
   "metadata": {},
   "outputs": [],
   "source": [
    "import dash\n",
    "import dash_html_components as html\n",
    "import pandas as pd\n",
    "import requests\n",
    "from bs4 import BeautifulSoup\n",
    "import plotly.graph_objects as go\n",
    "import dash_core_components as dcc"
   ]
  },
  {
   "cell_type": "code",
   "execution_count": 28,
   "metadata": {},
   "outputs": [],
   "source": [
    "# Scraping Code\n",
    "start_url = \"https://www.imdb.com/chart/top\"\n",
    "header = {\n",
    "    \"User-Agent\": \"Mozilla/5.0 (Windows NT 10.0; Win64; x64) AppleWebKit/537.36 (KHTML, like Gecko) Chrome/81.0.4044.138 Safari/537.36\"\n",
    "}\n",
    "\n",
    "response = requests.get(start_url, headers=header)\n",
    "soup = BeautifulSoup(response.content, 'html.parser')\n",
    "movie_containers = soup.select('td.titleColumn')[:100]\n",
    "\n",
    "data = []\n",
    "\n",
    "for movie_container in movie_containers:\n",
    "    movie_url = movie_container.select_one('a[href^=\"/title/\"]')\n",
    "    full_movie_url = \"https://www.imdb.com\" + movie_url['href']\n",
    "    response = requests.get(full_movie_url, headers=header)\n",
    "    soup = BeautifulSoup(response.content, 'html.parser')\n",
    "\n",
    "    rank = movie_containers.index(movie_container) + 1\n",
    "    movie_name = movie_container.get_text(strip=True).split('.')[1].strip()\n",
    "    movie_year_elem = movie_container.select_one('span.secondaryInfo')\n",
    "    movie_year = movie_year_elem.get_text(strip=True)[1:-1] if movie_year_elem else None\n",
    "    genre_elems = soup.select('span.ipc-chip__text')\n",
    "    genre = [g.get_text(strip=True) for g in genre_elems if g.get_text(strip=True) != \"Back to top\"]\n",
    "    director_elem = soup.select_one('a[href^=\"/name/\"]')\n",
    "    director_name = director_elem.get_text(strip=True) if director_elem else None\n",
    "    rating_elem = soup.select_one('div[data-testid=\"hero-rating-bar__aggregate-rating__score\"] span')\n",
    "    rating = rating_elem.get_text(strip=True) if rating_elem else None\n",
    "    actors_list = [a.get_text(strip=True) for a in soup.select('a[data-testid=\"title-cast-item__actor\"]')]\n",
    "\n",
    "    movie_data = {\n",
    "        'Rank': rank,\n",
    "        'Movie Name': movie_name,\n",
    "        'Year': movie_year,\n",
    "        'Genre': ', '.join(genre),\n",
    "        'Director': director_name,\n",
    "        'Rating': rating,\n",
    "        'Actors': ', '.join(actors_list),\n",
    "        'Movie URL': full_movie_url\n",
    "    }\n",
    "    data.append(movie_data)\n",
    "\n",
    "df = pd.DataFrame(data)\n"
   ]
  },
  {
   "cell_type": "code",
   "execution_count": 29,
   "metadata": {},
   "outputs": [
    {
     "data": {
      "text/html": [
       "<div>\n",
       "<style scoped>\n",
       "    .dataframe tbody tr th:only-of-type {\n",
       "        vertical-align: middle;\n",
       "    }\n",
       "\n",
       "    .dataframe tbody tr th {\n",
       "        vertical-align: top;\n",
       "    }\n",
       "\n",
       "    .dataframe thead th {\n",
       "        text-align: right;\n",
       "    }\n",
       "</style>\n",
       "<table border=\"1\" class=\"dataframe\">\n",
       "  <thead>\n",
       "    <tr style=\"text-align: right;\">\n",
       "      <th></th>\n",
       "      <th>Rank</th>\n",
       "      <th>Movie Name</th>\n",
       "      <th>Year</th>\n",
       "      <th>Genre</th>\n",
       "      <th>Director</th>\n",
       "      <th>Rating</th>\n",
       "      <th>Actors</th>\n",
       "      <th>Movie URL</th>\n",
       "    </tr>\n",
       "  </thead>\n",
       "  <tbody>\n",
       "    <tr>\n",
       "      <th>0</th>\n",
       "      <td>1</td>\n",
       "      <td>The Shawshank Redemption(1994)</td>\n",
       "      <td>1994</td>\n",
       "      <td>Drama</td>\n",
       "      <td>Frank Darabont</td>\n",
       "      <td>9.3</td>\n",
       "      <td>Tim Robbins, Morgan Freeman, Bob Gunton, Willi...</td>\n",
       "      <td>https://www.imdb.com/title/tt0111161/?pf_rd_m=...</td>\n",
       "    </tr>\n",
       "    <tr>\n",
       "      <th>1</th>\n",
       "      <td>2</td>\n",
       "      <td>The Godfather(1972)</td>\n",
       "      <td>1972</td>\n",
       "      <td>Crime, Drama</td>\n",
       "      <td>Francis Ford Coppola</td>\n",
       "      <td>9.2</td>\n",
       "      <td>Marlon Brando, Al Pacino, James Caan, Diane Ke...</td>\n",
       "      <td>https://www.imdb.com/title/tt0068646/?pf_rd_m=...</td>\n",
       "    </tr>\n",
       "    <tr>\n",
       "      <th>2</th>\n",
       "      <td>3</td>\n",
       "      <td>The Dark Knight(2008)</td>\n",
       "      <td>2008</td>\n",
       "      <td>Action, Crime, Drama</td>\n",
       "      <td>Christopher Nolan</td>\n",
       "      <td>9.0</td>\n",
       "      <td>Christian Bale, Heath Ledger, Aaron Eckhart, M...</td>\n",
       "      <td>https://www.imdb.com/title/tt0468569/?pf_rd_m=...</td>\n",
       "    </tr>\n",
       "    <tr>\n",
       "      <th>3</th>\n",
       "      <td>4</td>\n",
       "      <td>The Godfather Part II(1974)</td>\n",
       "      <td>1974</td>\n",
       "      <td>Crime, Drama</td>\n",
       "      <td>Francis Ford Coppola</td>\n",
       "      <td>9.0</td>\n",
       "      <td>Al Pacino, Robert De Niro, Robert Duvall, Dian...</td>\n",
       "      <td>https://www.imdb.com/title/tt0071562/?pf_rd_m=...</td>\n",
       "    </tr>\n",
       "    <tr>\n",
       "      <th>4</th>\n",
       "      <td>5</td>\n",
       "      <td>12 Angry Men(1957)</td>\n",
       "      <td>1957</td>\n",
       "      <td>Crime, Drama</td>\n",
       "      <td>Sidney Lumet</td>\n",
       "      <td>9.0</td>\n",
       "      <td>Henry Fonda, Lee J. Cobb, Martin Balsam, John ...</td>\n",
       "      <td>https://www.imdb.com/title/tt0050083/?pf_rd_m=...</td>\n",
       "    </tr>\n",
       "  </tbody>\n",
       "</table>\n",
       "</div>"
      ],
      "text/plain": [
       "   Rank                      Movie Name  Year                 Genre   \n",
       "0     1  The Shawshank Redemption(1994)  1994                 Drama  \\\n",
       "1     2             The Godfather(1972)  1972          Crime, Drama   \n",
       "2     3           The Dark Knight(2008)  2008  Action, Crime, Drama   \n",
       "3     4     The Godfather Part II(1974)  1974          Crime, Drama   \n",
       "4     5              12 Angry Men(1957)  1957          Crime, Drama   \n",
       "\n",
       "               Director Rating   \n",
       "0        Frank Darabont    9.3  \\\n",
       "1  Francis Ford Coppola    9.2   \n",
       "2     Christopher Nolan    9.0   \n",
       "3  Francis Ford Coppola    9.0   \n",
       "4          Sidney Lumet    9.0   \n",
       "\n",
       "                                              Actors   \n",
       "0  Tim Robbins, Morgan Freeman, Bob Gunton, Willi...  \\\n",
       "1  Marlon Brando, Al Pacino, James Caan, Diane Ke...   \n",
       "2  Christian Bale, Heath Ledger, Aaron Eckhart, M...   \n",
       "3  Al Pacino, Robert De Niro, Robert Duvall, Dian...   \n",
       "4  Henry Fonda, Lee J. Cobb, Martin Balsam, John ...   \n",
       "\n",
       "                                           Movie URL  \n",
       "0  https://www.imdb.com/title/tt0111161/?pf_rd_m=...  \n",
       "1  https://www.imdb.com/title/tt0068646/?pf_rd_m=...  \n",
       "2  https://www.imdb.com/title/tt0468569/?pf_rd_m=...  \n",
       "3  https://www.imdb.com/title/tt0071562/?pf_rd_m=...  \n",
       "4  https://www.imdb.com/title/tt0050083/?pf_rd_m=...  "
      ]
     },
     "execution_count": 29,
     "metadata": {},
     "output_type": "execute_result"
    }
   ],
   "source": [
    "df.head()"
   ]
  },
  {
   "cell_type": "code",
   "execution_count": 34,
   "metadata": {},
   "outputs": [
    {
     "name": "stdout",
     "output_type": "stream",
     "text": [
      "Dash is running on http://127.0.0.1:8050/\n",
      "\n",
      " * Serving Flask app '__main__'\n",
      " * Debug mode: off\n"
     ]
    },
    {
     "name": "stderr",
     "output_type": "stream",
     "text": [
      "WARNING: This is a development server. Do not use it in a production deployment. Use a production WSGI server instead.\n",
      " * Running on http://127.0.0.1:8050\n",
      "Press CTRL+C to quit\n",
      "127.0.0.1 - - [30/May/2023 11:08:05] \"GET / HTTP/1.1\" 200 -\n",
      "127.0.0.1 - - [30/May/2023 11:08:06] \"GET /_dash-layout HTTP/1.1\" 200 -\n",
      "127.0.0.1 - - [30/May/2023 11:08:06] \"GET /_dash-dependencies HTTP/1.1\" 200 -\n",
      "127.0.0.1 - - [30/May/2023 11:08:06] \"GET /_favicon.ico?v=2.9.3 HTTP/1.1\" 200 -\n",
      "127.0.0.1 - - [30/May/2023 11:08:06] \"GET /_dash-component-suites/dash/dcc/async-graph.js HTTP/1.1\" 304 -\n",
      "127.0.0.1 - - [30/May/2023 11:08:06] \"GET /_dash-component-suites/dash/dcc/async-plotlyjs.js HTTP/1.1\" 304 -\n"
     ]
    }
   ],
   "source": [
    "\n",
    "# Create a bar chart of movie ratings\n",
    "rating_chart = go.Bar(\n",
    "    x=df['Movie Name'],\n",
    "    y=df['Rating'],\n",
    "    marker=dict(color='rgb(63, 81, 181)'),\n",
    "    name='Rating'\n",
    ")\n",
    "\n",
    "# Create a scatter plot of movie years vs. ratings\n",
    "# Create a scatter plot of movie years vs. ratings\n",
    "scatter_chart = go.Scatter(\n",
    "    x=df['Year'],\n",
    "    y=df['Rating'],\n",
    "    mode='markers',\n",
    "    marker=dict(\n",
    "        size=10,\n",
    "        color='rgb(76, 175, 80)',\n",
    "        symbol='circle'\n",
    "    ),\n",
    "    name='Rating vs. Year'\n",
    ")\n",
    "histogram_chart = go.Histogram(\n",
    "    x=df['Year'],\n",
    "    y=df['Rating'],\n",
    "    nbinsx=10,  # Adjust the number of bins as needed\n",
    "    marker=dict(color='rgb(76, 175, 80)'),\n",
    "    name='Rating vs. Year'\n",
    ")\n",
    "\n",
    "\n",
    "# Create a pie chart of movie genres\n",
    "genre_counts = df['Genre'].str.split(', ').explode().value_counts()\n",
    "genre_chart = go.Pie(\n",
    "    labels=genre_counts.index,\n",
    "    values=genre_counts.values,\n",
    "    hole=0.3,\n",
    "    marker=dict(colors=['rgb(244, 67, 54)', 'rgb(33, 150, 243)', 'rgb(255, 193, 7)'])\n",
    ")\n",
    "\n",
    "# Define the Dash app layout\n",
    "app = dash.Dash(__name__)\n",
    "\n",
    "app.layout = html.Div([\n",
    "    html.H1(\"Scraped Movie Details\"),\n",
    "    html.Div([\n",
    "        dcc.Graph(\n",
    "            id='rating-chart',\n",
    "            figure={\n",
    "                'data': [rating_chart],\n",
    "                'layout': {\n",
    "                    'title': 'Movie Ratings'\n",
    "                }\n",
    "            }\n",
    "        )\n",
    "    ]),\n",
    "    html.Div([\n",
    "        dcc.Graph(\n",
    "            id='scatter-chart',\n",
    "            figure={\n",
    "                'data': [scatter_chart],\n",
    "                'layout': {\n",
    "                    'title': 'Movie Ratings vs. Year'\n",
    "                }\n",
    "            }\n",
    "        )\n",
    "    ]),\n",
    "    html.Div([\n",
    "        dcc.Graph(\n",
    "            id='histogram-chart',\n",
    "            figure={\n",
    "                'data': [histogram_chart],\n",
    "                'layout': {\n",
    "                    'title': 'Rating vs. Year Histogram',\n",
    "                    'xaxis': {'title': 'Year'},\n",
    "                    'yaxis': {'title': 'Rating Count'}\n",
    "                }\n",
    "            }\n",
    "        )\n",
    "    ])\n",
    "    ,\n",
    "    html.Div([\n",
    "        dcc.Graph(\n",
    "            id='genre-chart',\n",
    "            figure={\n",
    "                'data': [genre_chart],\n",
    "                'layout': {\n",
    "                    'title': 'Movie Genres'\n",
    "                }\n",
    "            }\n",
    "        )\n",
    "    ])\n",
    "])\n",
    "\n",
    "if __name__ == '__main__':\n",
    "    app.run_server()\n"
   ]
  },
  {
   "cell_type": "code",
   "execution_count": null,
   "metadata": {},
   "outputs": [],
   "source": []
  }
 ],
 "metadata": {
  "kernel_info": {
   "name": "python3"
  },
  "kernelspec": {
   "display_name": "Python 3 (ipykernel)",
   "language": "python",
   "name": "python3"
  },
  "language_info": {
   "codemirror_mode": {
    "name": "ipython",
    "version": 3
   },
   "file_extension": ".py",
   "mimetype": "text/x-python",
   "name": "python",
   "nbconvert_exporter": "python",
   "pygments_lexer": "ipython3",
   "version": "3.11.3"
  },
  "nteract": {
   "version": "0.12.3"
  }
 },
 "nbformat": 4,
 "nbformat_minor": 1
}
